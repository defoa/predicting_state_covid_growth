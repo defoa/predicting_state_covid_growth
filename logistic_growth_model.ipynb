{
  "nbformat": 4,
  "nbformat_minor": 0,
  "metadata": {
    "colab": {
      "provenance": []
    },
    "kernelspec": {
      "name": "python3",
      "display_name": "Python 3"
    }
  },
  "cells": [
    {
      "cell_type": "markdown",
      "metadata": {
        "id": "qmCrYHtEgEBZ"
      },
      "source": [
        "# MA 346 Midterm Project\n",
        "### By: Annie DeForge and Rashmi Rajesh"
      ]
    },
    {
      "cell_type": "code",
      "metadata": {
        "id": "HKkTROeWgGky"
      },
      "source": [
        "import pandas as pd \n",
        "import numpy as np\n",
        "import matplotlib.pyplot as plt\n",
        "from scipy.optimize import curve_fit\n",
        "import seaborn as sns\n",
        "from statsmodels.stats import weightstats as stests"
      ],
      "execution_count": null,
      "outputs": []
    },
    {
      "cell_type": "markdown",
      "metadata": {
        "id": "4SHicqjgy06x"
      },
      "source": [
        "# Loading the Data\n"
      ]
    },
    {
      "cell_type": "markdown",
      "metadata": {
        "id": "PcsJ3GfPgP6d"
      },
      "source": [
        "Load the united dataframe made by combining the election data from npr and the population and daily covid count for each state from usa facts. The data have been manipulated to remove district and country level rows from the dataset."
      ]
    },
    {
      "cell_type": "code",
      "metadata": {
        "id": "_6uTjxnGxoAV"
      },
      "source": [
        "grouped = pd.read_csv('ma_346_midterm_dataset.csv')"
      ],
      "execution_count": null,
      "outputs": []
    },
    {
      "cell_type": "markdown",
      "metadata": {
        "id": "OxoJLCiEzB5j"
      },
      "source": [
        "# Fitting the Logistic Curve"
      ]
    },
    {
      "cell_type": "markdown",
      "metadata": {
        "id": "DZH3oa0wj8F_"
      },
      "source": [
        "To understand the patterns in the covid data, we need to create a model for the growth of cases in each state. We will use the curve_fit function from scipy to fit the data to a logisitc function. \n",
        "\n",
        "A logistic equation y = M/(1+exp(r*(-t+t0))), where M is the maximum value, r is the growth rate, and t0 is the midpoint. This equation creates a sigmoid curve with some natural growth that eventually reaches some maximum that we expect the spread of a pandemic to take.\n",
        "\n",
        "We will input the covid data from each row to find the parameters that best fit the logistic model for each state."
      ]
    },
    {
      "cell_type": "code",
      "metadata": {
        "id": "Ur2rZnYONJ5s",
        "colab": {
          "base_uri": "https://localhost:8080/",
          "height": 241
        },
        "outputId": "40c55a88-49ec-4548-b760-ebab8e5beff0"
      },
      "source": [
        "def logistic_analysis (x, beta0, beta1, beta2):\n",
        "  return beta0/(1+np.exp(beta1*(-x+beta2)))\n",
        "\n",
        "def generate_model(data):\n",
        "  y = data.values.tolist()\n",
        "  xdata = np.arange(1, total_days+1, 1).tolist()\n",
        "  guessed_betas = [data.max(), 1, total_days/2]\n",
        "  try:\n",
        "    popt, pcov = curve_fit(logistic_analysis, xdata, y, p0=guessed_betas)\n",
        "    return popt\n",
        "  except:\n",
        "    return None\n",
        "\n",
        "parameters = pd.Series\n",
        "new_index = grouped.set_index('State')\n",
        "covid = new_index.loc[:, '2020-01-22':'2021-02-21']\n",
        "total_days = (len(covid.columns))\n",
        "parameters = covid.apply(generate_model, axis=1)\n",
        "beta = pd.DataFrame(parameters, columns=['Beta'])\n",
        "beta = beta['Beta'].apply(pd.Series)\n",
        "\n",
        "beta = beta.rename(columns =lambda x : 'Beta_' + str(x))\n",
        "merged = pd.merge(left = grouped, right =beta, how='left', left_on='State', right_on='State')"
      ],
      "execution_count": null,
      "outputs": [
        {
          "output_type": "error",
          "ename": "NameError",
          "evalue": "ignored",
          "traceback": [
            "\u001b[0;31m---------------------------------------------------------------------------\u001b[0m",
            "\u001b[0;31mNameError\u001b[0m                                 Traceback (most recent call last)",
            "\u001b[0;32m<ipython-input-1-54fd01d1b812>\u001b[0m in \u001b[0;36m<module>\u001b[0;34m()\u001b[0m\n\u001b[1;32m     12\u001b[0m     \u001b[0;32mreturn\u001b[0m \u001b[0;32mNone\u001b[0m\u001b[0;34m\u001b[0m\u001b[0;34m\u001b[0m\u001b[0m\n\u001b[1;32m     13\u001b[0m \u001b[0;34m\u001b[0m\u001b[0m\n\u001b[0;32m---> 14\u001b[0;31m \u001b[0mparameters\u001b[0m \u001b[0;34m=\u001b[0m \u001b[0mpd\u001b[0m\u001b[0;34m.\u001b[0m\u001b[0mSeries\u001b[0m\u001b[0;34m\u001b[0m\u001b[0;34m\u001b[0m\u001b[0m\n\u001b[0m\u001b[1;32m     15\u001b[0m \u001b[0mnew_index\u001b[0m \u001b[0;34m=\u001b[0m \u001b[0mgrouped\u001b[0m\u001b[0;34m.\u001b[0m\u001b[0mset_index\u001b[0m\u001b[0;34m(\u001b[0m\u001b[0;34m'State'\u001b[0m\u001b[0;34m)\u001b[0m\u001b[0;34m\u001b[0m\u001b[0;34m\u001b[0m\u001b[0m\n\u001b[1;32m     16\u001b[0m \u001b[0mcovid\u001b[0m \u001b[0;34m=\u001b[0m \u001b[0mnew_index\u001b[0m\u001b[0;34m.\u001b[0m\u001b[0mloc\u001b[0m\u001b[0;34m[\u001b[0m\u001b[0;34m:\u001b[0m\u001b[0;34m,\u001b[0m \u001b[0;34m'2020-01-22'\u001b[0m\u001b[0;34m:\u001b[0m\u001b[0;34m'2021-02-21'\u001b[0m\u001b[0;34m]\u001b[0m\u001b[0;34m\u001b[0m\u001b[0;34m\u001b[0m\u001b[0m\n",
            "\u001b[0;31mNameError\u001b[0m: name 'pd' is not defined"
          ]
        }
      ]
    },
    {
      "cell_type": "markdown",
      "metadata": {
        "id": "eBPFjYx31z5M"
      },
      "source": [
        "There are two functions that are defined, first logistic_analysis is used the equation for the model, the second function generate_model uses .apply() in order to evaluate only one row at a time so that the each state own covid count is the y data being fitted for the logistic curve. \n",
        "\n",
        "Because the dataframe grouped contains columns that won't be needed, the none covid count cases are dropped before getting passed through the generate_model function. The index for this new dataframe is also changed to the state for that row, this is so the beta values are indexed by state and will later be able to be merged back with the rest of the columns in a datframe called merged. \n",
        "\n",
        "In the generate_model function .tolist() is used because it is read in as an array and curve_fit only accepts lists. The guessed values are the max number of cases for each state, a rate of 1, and half the number of days so far. \n",
        "\n",
        "Sometimes, curve_fit fails to find the best parameters, so there is a try except statement which fills the parameters for that row with null values."
      ]
    },
    {
      "cell_type": "markdown",
      "metadata": {
        "id": "EvXqwt49Aa1j"
      },
      "source": [
        "# Correlation Coefficient Heat Maps"
      ]
    },
    {
      "cell_type": "markdown",
      "metadata": {
        "id": "AbuGbKR8AYRv"
      },
      "source": [
        "In order to determine if variables relating to coronavirus data were related to a state's political leaning, heat maps of correlation coefficients of various corona virus factors were mapped alongside a state's political leaning.\n",
        "\n",
        "Factors considered were: \n",
        "\n",
        "\n",
        "* \tmost recent number of cases\n",
        "*   most recent number of cases per capita\n",
        "*   projected maximum number of cases\n",
        "*   projected maximum number of cases per capita\n",
        "*   rate of increase\n",
        "*   time of maximum increase\n",
        "\n",
        "\n",
        "We imported seaborn to create an easy to read heatmap for each factor \n",
        " \n",
        "\n"
      ]
    },
    {
      "cell_type": "markdown",
      "metadata": {
        "id": "5_oKblctC0I-"
      },
      "source": [
        "### Most Recent Number of Cases\n",
        "Given the fact that our covid data is as of February 21st, 2021, the most recent number of cases is the quantity in our dataset as of February 21st. \n",
        "\n",
        "Using the merged data frame that has the columns for number of voters in each state that voted either Clinton or Trump, and the recent number of cases as of February 21st, we constructed out heat map by first calculating the correlation coefficients and then graphing the correlation in the heatmap.\n",
        "\n"
      ]
    },
    {
      "cell_type": "code",
      "metadata": {
        "colab": {
          "base_uri": "https://localhost:8080/",
          "height": 281
        },
        "id": "hp7_yR2BNsji",
        "outputId": "b94e5c21-df45-48ae-cabf-a8ae293bcfc4"
      },
      "source": [
        "merged_a = merged[['Hillary Clinton', 'Donald Trump', '2021-02-21']]\n",
        "correlation_coefficients_a = np.corrcoef(merged_a, rowvar=False)\n",
        "sns.heatmap(correlation_coefficients_a, annot=True)\n",
        "plt.xticks(np.arange(3)+0.5, merged_a.columns)\n",
        "plt.yticks(np.arange(3)+0.5, merged_a.columns, rotation=0)\n",
        "plt.title('Most Recent Number of Cases')\n",
        "plt.show()"
      ],
      "execution_count": null,
      "outputs": [
        {
          "output_type": "display_data",
          "data": {
            "image/png": "[encoded data removed]",
            "text/plain": [
              "<Figure size 432x288 with 2 Axes>"
            ]
          },
          "metadata": {
            "tags": [],
            "needs_background": "light"
          }
        }
      ]
    },
    {
      "cell_type": "markdown",
      "metadata": {
        "id": "tT_gh3rPEmXf"
      },
      "source": [
        "The heatmap for the most recent number of cases concluded that there was a slight positive correlation (0.18) between the recent number of cases and votes for Hillary Clinton while there was a slight negative correlation (-0.18) between the recent number of cases and votes for Donald Trump.\n"
      ]
    },
    {
      "cell_type": "markdown",
      "metadata": {
        "id": "uDx2I7KOHkYa"
      },
      "source": [
        "### Most Recent Number of Cases Per Capita\n",
        "Given the fact that our covid data is as of February 21st, 2021, the most recent number of cases is the quantity in our dataset as of February 21st. However in order to look at the cases per capita, we divided the current number of cases in each state by the population in each state.\n",
        "\n",
        "Using the merged data frame that has the columns for number of voters in each state that voted either Clinton or Trump, and the recent number of cases as of February 21st, we constructed out heat map by first calculating the correlation coefficients and then graphing the correlation in the heatmap.\n",
        "\n"
      ]
    },
    {
      "cell_type": "code",
      "metadata": {
        "colab": {
          "base_uri": "https://localhost:8080/",
          "height": 282
        },
        "id": "8IRCpwM4K6do",
        "outputId": "f0ab3c3c-7c7e-4e85-9190-982689266b7f"
      },
      "source": [
        "#most recent number of cases per capita\n",
        "merged['cases_per_capita'] = merged['2021-02-21']/merged['population']\n",
        "merged_b = merged[['Hillary Clinton', 'Donald Trump', 'cases_per_capita']]\n",
        "correlation_coefficients_b = np.corrcoef(merged_b, rowvar=False)\n",
        "sns.heatmap(correlation_coefficients_b, annot=True)\n",
        "plt.xticks(np.arange(3)+0.5, merged_b.columns)\n",
        "plt.yticks(np.arange(3)+0.5, merged_b.columns, rotation=0)\n",
        "plt.title('Most Recent Number of Cases Per Capita')\n",
        "plt.show()"
      ],
      "execution_count": null,
      "outputs": [
        {
          "output_type": "display_data",
          "data": {
            "image/png": "[encoded data removed]",
            "text/plain": [
              "<Figure size 432x288 with 2 Axes>"
            ]
          },
          "metadata": {
            "tags": [],
            "needs_background": "light"
          }
        }
      ]
    },
    {
      "cell_type": "markdown",
      "metadata": {
        "id": "rDbiSvkaMeOj"
      },
      "source": [
        "The heatmap for the most recent number of cases per capita concluded that there was a significant negative correlation (-0.56) between the recent number of cases per capita and votes for Hillary Clinton while there was a significant positive correlation (0.55) between the recent number of cases and votes for Donald Trump.\n"
      ]
    },
    {
      "cell_type": "markdown",
      "metadata": {
        "id": "B5ukDSM1P-E5"
      },
      "source": [
        "### Project Max Number of Cases\n",
        "The projected max number of cases is captured using the 'Beta_0' column from our merged data set.\n",
        "\n",
        "Therefore the merged data frame that has the columns for number of voters in each state that voted either Clinton or Trump, and the 'Beta_0', we constructed out heat map by first calculating the correlation coefficients and then graphing the correlation in the heatmap.\n",
        "\n"
      ]
    },
    {
      "cell_type": "code",
      "metadata": {
        "id": "qdOEpAPQLYxA",
        "colab": {
          "base_uri": "https://localhost:8080/",
          "height": 282
        },
        "outputId": "8e985ff0-1b64-444e-929c-ee7f6755de02"
      },
      "source": [
        "# projected max number of cases\n",
        "merged_c = merged[['Hillary Clinton', 'Donald Trump', 'Beta_0']].dropna()\n",
        "correlation_coefficients_c = np.corrcoef(merged_c, rowvar=False)\n",
        "sns.heatmap(correlation_coefficients_c, annot=True)\n",
        "plt.xticks(np.arange(3)+0.5, merged_c.columns)\n",
        "plt.yticks(np.arange(3)+0.5, merged_c.columns, rotation=0)\n",
        "plt.title('Projected Max Number of Cases')\n",
        "plt.show()"
      ],
      "execution_count": null,
      "outputs": [
        {
          "output_type": "display_data",
          "data": {
            "image/png": "[encoded data removed]",
            "text/plain": [
              "<Figure size 432x288 with 2 Axes>"
            ]
          },
          "metadata": {
            "tags": [],
            "needs_background": "light"
          }
        }
      ]
    },
    {
      "cell_type": "markdown",
      "metadata": {
        "id": "Xfa1dNqoRF7d"
      },
      "source": [
        "The heatmap for the projected max number of cases concluded that there was a slight positive correlation (0.17) between the projected number of max cases and votes for Hillary Clinton while there was a slight negative correlation (-0.15) between the projected number of cases and votes for Donald Trump.\n"
      ]
    },
    {
      "cell_type": "markdown",
      "metadata": {
        "id": "j8trwf_1XBXt"
      },
      "source": [
        "### Project Max Number of Cases Per Capita \n",
        "The projected max number of cases is captured using the 'Beta_0' column from our merged data set. However in order to look at the cases per capita, we divided the current number of cases in each state by the population in each state.\n",
        "\n",
        "Therefore the merged data frame that has the columns for number of voters in each state that voted either Clinton or Trump, and the 'Beta_0', we constructed out heat map by first calculating the correlation coefficients and then graphing the correlation in the heatmap.\n"
      ]
    },
    {
      "cell_type": "code",
      "metadata": {
        "id": "fuZ5XWLVLYkE",
        "colab": {
          "base_uri": "https://localhost:8080/",
          "height": 313
        },
        "outputId": "177354e7-f76b-4b18-d579-3fb692281fdc"
      },
      "source": [
        "# projected max number of cases per capita\n",
        "merged['Projected Max Per Capita'] = merged['Beta_0']/merged['population']\n",
        "merged_d = merged[['Hillary Clinton', 'Donald Trump', 'Projected Max Per Capita']].dropna()\n",
        "correlation_coefficients_d = np.corrcoef(merged_d, rowvar=False)\n",
        "sns.heatmap(correlation_coefficients_d, annot=True)\n",
        "plt.xticks(np.arange(3)+0.5, merged_d.columns, rotation=15)\n",
        "plt.yticks(np.arange(3)+0.5, merged_d.columns, rotation=0)\n",
        "plt.title('Projected Max Number of Cases Per Capita')\n",
        "plt.show()"
      ],
      "execution_count": null,
      "outputs": [
        {
          "output_type": "display_data",
          "data": {
            "image/png": "[encoded data removed]",
            "text/plain": [
              "<Figure size 432x288 with 2 Axes>"
            ]
          },
          "metadata": {
            "tags": [],
            "needs_background": "light"
          }
        }
      ]
    },
    {
      "cell_type": "markdown",
      "metadata": {
        "id": "Vslox0ZmXY9G"
      },
      "source": [
        "The heatmap for the projected max number of cases per capita concluded that there was a slight positive correlation (0.11) between the projected number of max cases and votes for Hillary Clinton while there was a slight negative correlation (-0.089) between the projected number of cases per capita and votes for Donald Trump.\n"
      ]
    },
    {
      "cell_type": "markdown",
      "metadata": {
        "id": "55qvzq_OYXYw"
      },
      "source": [
        "### Rate of Increase\n",
        "The rate of increase of cases is captured using the 'Beta_1' column from our merged data set. \n",
        "\n",
        "Therefore we used the merged data frame that has the columns for number of voters in each state that voted either Clinton or Trump, and the 'Beta_1', in order to construct our heat map by first calculating the correlation coefficients and then graphing the correlation in the heatmap.\n"
      ]
    },
    {
      "cell_type": "code",
      "metadata": {
        "id": "y5tSywRMLYEo",
        "colab": {
          "base_uri": "https://localhost:8080/",
          "height": 282
        },
        "outputId": "1f55760f-429a-4ab3-a18e-b5704843d51f"
      },
      "source": [
        "#rate of increase\n",
        "merged_e = merged[['Hillary Clinton', 'Donald Trump', 'Beta_1']].dropna()\n",
        "correlation_coefficients_e = np.corrcoef(merged_e, rowvar=False)\n",
        "sns.heatmap(correlation_coefficients_e, annot=True)\n",
        "plt.xticks(np.arange(3)+0.5, merged_e.columns)\n",
        "plt.yticks(np.arange(3)+0.5, merged_e.columns, rotation=0)\n",
        "plt.title('Rate of Increase')\n",
        "plt.show()"
      ],
      "execution_count": null,
      "outputs": [
        {
          "output_type": "display_data",
          "data": {
            "image/png": "[encoded data removed]",
            "text/plain": [
              "<Figure size 432x288 with 2 Axes>"
            ]
          },
          "metadata": {
            "tags": [],
            "needs_background": "light"
          }
        }
      ]
    },
    {
      "cell_type": "markdown",
      "metadata": {
        "id": "awNjuinSY0qa"
      },
      "source": [
        "The heatmap for the rate of increase of cases included that there was a significant negative correlation (-0.52) between the rate of increase and votes for Hillary Clinton while there was a significant positive correlation (0.43) between the projected number of cases per capita and votes for Donald Trump.\n"
      ]
    },
    {
      "cell_type": "markdown",
      "metadata": {
        "id": "Er84jlL_Y1AG"
      },
      "source": [
        "### Time of Maximum Increase\n",
        "The time of maximum increase is captured using the 'Beta_2' column from our merged data set. \n",
        "\n",
        "Therefore we used the merged data frame that has the columns for number of voters in each state that voted either Clinton or Trump, and the 'Beta_2', in order to construct our heat map by first calculating the correlation coefficients and then graphing the correlation in the heatmap.\n"
      ]
    },
    {
      "cell_type": "code",
      "metadata": {
        "id": "tdIlgBvgLXxJ",
        "colab": {
          "base_uri": "https://localhost:8080/",
          "height": 282
        },
        "outputId": "0b3938b2-1c3d-4569-d053-c1d6e5df37ff"
      },
      "source": [
        "#time of maximum increase\n",
        "merged_f = merged[['Hillary Clinton', 'Donald Trump', 'Beta_2']].dropna()\n",
        "correlation_coefficients_f = np.corrcoef(merged_f, rowvar=False)\n",
        "sns.heatmap(correlation_coefficients_f, annot=True)\n",
        "plt.xticks(np.arange(3)+0.5, merged_f.columns)\n",
        "plt.yticks(np.arange(3)+0.5, merged_f.columns, rotation=0)\n",
        "plt.title('Time of Maximum Increase')\n",
        "plt.show()"
      ],
      "execution_count": null,
      "outputs": [
        {
          "output_type": "display_data",
          "data": {
            "image/png": "[encoded data removed]",
            "text/plain": [
              "<Figure size 432x288 with 2 Axes>"
            ]
          },
          "metadata": {
            "tags": [],
            "needs_background": "light"
          }
        }
      ]
    },
    {
      "cell_type": "markdown",
      "metadata": {
        "id": "HAWT4wbBZWLp"
      },
      "source": [
        "The heatmap for the time of maximum increase concluded that there was a somewhat positive correlation (0.41) between the rate of increase and votes for Hillary Clinton while there was a somewhat negative correlation (-0.34) between the projected number of cases per capita and votes for Donald Trump.\n"
      ]
    },
    {
      "cell_type": "markdown",
      "metadata": {
        "id": "zQTc7PO-ZVpw"
      },
      "source": [
        "# Hypothesis Testing of Politcal Affiliation and Time of Maximum Increase in Cases and Cases Per Capita"
      ]
    },
    {
      "cell_type": "markdown",
      "metadata": {
        "id": "Hgq-ZzXNZ-sF"
      },
      "source": [
        "### Time of Maximum Increase\n",
        "We identified that the heatmap for the time of maximum increase concluded that there was a somewhat positive correlation (0.41) between the rate of increase and votes for Hillary Clinton while there was a somewhat negative correlation (-0.34) between the projected number of cases per capita and votes for Donald Trump.\n",
        "\n",
        "This was interesting as it seemed to indicated that there was a variation in the number of cases at the height of the pandemice solely based on a state's political affinity to either Trump or Clinton, prompting further investigation via a Hypothesis Test."
      ]
    },
    {
      "cell_type": "markdown",
      "metadata": {
        "id": "FklUB8TAcKrT"
      },
      "source": [
        "First we created a winner column that identified the winner of each state. Since our data frame has the column 'Hillary Clinton' before 'Donald Trump' we subracted the votes for Trump from Clinton in each state. If the number is positive it meant Clinton won the state as she had more votes. If the number is negative it meant Trump won the state as he had more votes."
      ]
    },
    {
      "cell_type": "code",
      "metadata": {
        "id": "DOGcqvWfFfgN"
      },
      "source": [
        "# finding the winner\n",
        "merged['margin'] = merged['Hillary Clinton'] - merged['Donald Trump']\n",
        "merged['winner'] = ['Clinton' if x > 0 else 'Trump' for x in merged['margin']]\n",
        "#print(merged)"
      ],
      "execution_count": null,
      "outputs": []
    },
    {
      "cell_type": "markdown",
      "metadata": {
        "id": "6VGBhy9ydF9V"
      },
      "source": [
        "After identifying the winner column, we processed to conduct a two sample x-test comparing the means of the cases at the time of maximum increase for either candidate. \n",
        "\n",
        "We first isolated each candidate into a merged_h data frame for Hillary Clinton and a merged_d data frame for Donald Trump, to allow us to calculate the means of cases at the time of maximum increase for either candidate. \n",
        "\n",
        "Our null hypothesis was that there was no difference in the mean cases at the time of maximum increase for either candidate. \n",
        "\n",
        "Our data met the assumptions needed to proceed with the two sample z-test:\n",
        "\n",
        "\n",
        "1.   The samples of data from each population was independent of each other as each states votes did not influence another state's votes and we utilized all the votes for each candidate and did not take a sample from the votes for each candidate in each state\n",
        "2.   The population was normally distributed as it was all the votes cast in each candidate in each state\n",
        "\n",
        "We calculated this test with 95% confidence\n"
      ]
    },
    {
      "cell_type": "code",
      "metadata": {
        "colab": {
          "base_uri": "https://localhost:8080/"
        },
        "id": "XaXoIx4aZtrY",
        "outputId": "df6eb21b-89eb-4c0e-c797-d862361b425c"
      },
      "source": [
        "# hypothesis testing\n",
        "\n",
        "clinton = merged['winner'] == 'Clinton'\n",
        "merged_h = merged[clinton].dropna()\n",
        "trump = merged['winner'] == 'Trump'\n",
        "merged_d = merged[trump].dropna()\n",
        "\n",
        "print(merged_d['Beta_2'].mean())\n",
        "\n",
        "diff = merged_h['Beta_2'].mean() - merged_d['Beta_2'].mean()\n",
        "print(diff)\n",
        "\n",
        "ztest ,pval1 = stests.ztest(merged_h['Beta_2'], x2=merged_d['Beta_2'], value=0,alternative='two-sided')\n",
        "print(float(pval1))\n",
        "\n",
        "if pval1 <0.05:\n",
        "  print(\"we reject null hypothesis\")\n",
        "else:\n",
        "  print(\"we fail to reject null hypothesis\")\n",
        "\n"
      ],
      "execution_count": null,
      "outputs": [
        {
          "output_type": "stream",
          "text": [
            "431.1025935163745\n",
            "363.8832204098896\n",
            "67.21937310648491\n",
            "0.04905242163141174\n",
            "we reject null hypothesis\n"
          ],
          "name": "stdout"
        }
      ]
    },
    {
      "cell_type": "markdown",
      "metadata": {
        "id": "M7V9P6xMessr"
      },
      "source": [
        "This test rejected the null hypothesis that the means cases at the time of maximum increase were the same indicating that the difference in means is statistically significant."
      ]
    },
    {
      "cell_type": "markdown",
      "metadata": {
        "id": "IPxcgtaPGlOU"
      },
      "source": [
        "### Cases Per Capita\n",
        "We identified that the heatmap for the most recent number of cases per capita concluded that there was a significant negative correlation (-0.56) between the recent number of cases per capita and votes for Hillary Clinton while there was a significant positive correlation (0.55) between the recent number of cases and votes for Donald Trump.\n",
        "\n",
        "This was interesting as it seemed to indicate that there was a variation in the per capita of recent cases solely based on a state's political affinity to either Trump or Clinton, prompting further investigation via a Hypothesis Test.\n",
        "\n",
        "We used the same winner column again, but this time conducted the hypothesis using 'cases_per_capita which captured the cases per capita in each state.\n",
        "\n",
        "We processed to conduct a two sample x-test comparing the means of cases_per_capita for either candidate.\n",
        "\n",
        "Used the merged_h data frame for Hillary Clinton and merged_d data frame for Donald Trump used in the prevous hypothesis test to allow us to calculate the means of cases_per_capita for either candidate.\n",
        "\n",
        "Our null hypothesis was that there was no difference in the means of cases_per_capita for either candidate.\n",
        "\n",
        "Our data met the assumptions needed to proceed with the two sample z-test:\n",
        "\n",
        "The samples of data from each population was independent of each other as each states votes did not influence another state's votes and we utilized all the votes for each candidate and did not take a sample from the votes for each candidate in each state\n",
        "The population was normally distributed as it was all the votes cast in each candidate in each state\n",
        "We calculated this test with 95% confidence"
      ]
    },
    {
      "cell_type": "code",
      "metadata": {
        "colab": {
          "base_uri": "https://localhost:8080/"
        },
        "id": "vNiNri28Gv1C",
        "outputId": "d94a69e5-6a53-4bb5-97ec-da04ea4e5b61"
      },
      "source": [
        "\n",
        "diff_2 = merged_h['cases_per_capita'].mean() - merged_d['cases_per_capita'].mean()\n",
        "print(\"Difference in Means for Rate of Increase: \" , diff_2)\n",
        "\n",
        "ztest ,pval1 = stests.ztest(merged_h['cases_per_capita'], x2=merged_d['cases_per_capita'], value=0,alternative='two-sided')\n",
        "print(\"p-value: \", float(pval1))\n",
        "\n",
        "if pval1 <0.05:\n",
        "  print(\"we reject null hypothesis\")\n",
        "else:\n",
        "  print(\"we fail to reject null hypothesis\")"
      ],
      "execution_count": null,
      "outputs": [
        {
          "output_type": "stream",
          "text": [
            "Difference in Means for Rate of Increase:  -0.03141628869092558\n",
            "p-value:  2.653546257789168e-07\n",
            "we reject null hypothesis\n"
          ],
          "name": "stdout"
        }
      ]
    },
    {
      "cell_type": "markdown",
      "metadata": {
        "id": "WTkA07rJGs7y"
      },
      "source": [
        "\n",
        "\n",
        "This test rejected the null hypothesis that the means of cases_per_capita for either candidate indicating that the difference in means is statistically significant."
      ]
    },
    {
      "cell_type": "markdown",
      "metadata": {
        "id": "ObKgtuSVh_Fq"
      },
      "source": [
        "# Appendix\n"
      ]
    },
    {
      "cell_type": "markdown",
      "metadata": {
        "id": "6MatFsZgiLNe"
      },
      "source": [
        "This is our code we used to take in the three separate csv files, and combined them into our final data set, and then exported in a csv file."
      ]
    },
    {
      "cell_type": "code",
      "metadata": {
        "id": "HHI7mXOwgUVF"
      },
      "source": [
        "#npr data\n",
        "#npr = pd.read_csv('/content/drive/My Drive/MA 346 Project 1/npr_2016_election_data.csv')\n",
        "#df_npr = pd.DataFrame(npr)\n",
        "#df_npr_filter = df_npr[~(df_npr.State.str.len() > 2)]\n",
        "#new_df_npr_filter = df_npr_filter.sort_values('State').reset_index()\n",
        "#npr_grouped = new_df_npr_filter[['State', 'Hillary Clinton','Donald Trump']]\n",
        "#print(npr_grouped)\n",
        "\n",
        "#covid confirmed by state\n",
        "#covid = pd.read_csv('/content/drive/My Drive/MA 346 Project 1/covid_confirmed_usafacts.csv')\n",
        "#df_covid = pd.DataFrame(covid)\n",
        "#covid_filter = df_covid.groupby('State').sum()\n",
        "#covid_grouped = covid_filter.loc[ : , \"2020-01-22\":]\n",
        "#print(covid_grouped)\n",
        "\n",
        "#population by state\n",
        "#pop = pd.read_csv('/content/drive/My Drive/MA 346 Project 1/covid_county_population_usafacts.csv')\n",
        "#df_pop = pd.DataFrame(pop)\n",
        "#pop_filter = df_pop.groupby('State').sum()\n",
        "#pop_grouped = pop_filter[['population']]\n",
        "#print(pop_grouped)\n",
        "\n",
        "#grouped = pd.merge(pd.merge(npr_grouped, pop_grouped, on='State'), covid_grouped, on='State')\n",
        "#grouped_final = grouped[['State', 'Hillary Clinton', 'Donald Trump', '2021-02-21', 'population']]\n",
        "#print(grouped)\n",
        "\n",
        "#grouped.to_csv('/content/drive/My Drive/MA 346 Project 1/ma_346_midterm_dataset.csv', index = False)"
      ],
      "execution_count": null,
      "outputs": []
    }
  ]
}